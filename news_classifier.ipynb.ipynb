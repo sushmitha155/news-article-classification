{
 "cells": [
  {
   "cell_type": "code",
   "execution_count": 1,
   "id": "af18a65a-98f9-4e7a-9f44-e973ac19b5c9",
   "metadata": {},
   "outputs": [
    {
     "data": {
      "text/html": [
       "<div>\n",
       "<style scoped>\n",
       "    .dataframe tbody tr th:only-of-type {\n",
       "        vertical-align: middle;\n",
       "    }\n",
       "\n",
       "    .dataframe tbody tr th {\n",
       "        vertical-align: top;\n",
       "    }\n",
       "\n",
       "    .dataframe thead th {\n",
       "        text-align: right;\n",
       "    }\n",
       "</style>\n",
       "<table border=\"1\" class=\"dataframe\">\n",
       "  <thead>\n",
       "    <tr style=\"text-align: right;\">\n",
       "      <th></th>\n",
       "      <th>title</th>\n",
       "      <th>text</th>\n",
       "      <th>subject</th>\n",
       "      <th>date</th>\n",
       "      <th>label</th>\n",
       "    </tr>\n",
       "  </thead>\n",
       "  <tbody>\n",
       "    <tr>\n",
       "      <th>0</th>\n",
       "      <td>Obama’s Legacy Before American Safety: Feds Lo...</td>\n",
       "      <td>The Feds are looking at several states to tran...</td>\n",
       "      <td>Government News</td>\n",
       "      <td>Oct 4, 2015</td>\n",
       "      <td>0</td>\n",
       "    </tr>\n",
       "    <tr>\n",
       "      <th>1</th>\n",
       "      <td>Notorious RBG Throws AMAZING Shade At Trump F...</td>\n",
       "      <td>We love Ruth Bader Ginsburg. She s the sweet  ...</td>\n",
       "      <td>News</td>\n",
       "      <td>November 10, 2016</td>\n",
       "      <td>0</td>\n",
       "    </tr>\n",
       "    <tr>\n",
       "      <th>2</th>\n",
       "      <td>“PROUD TRANSGENDER” Democrat Candidate For Con...</td>\n",
       "      <td>WQOW -A Lacrosse, WI transgender person, who r...</td>\n",
       "      <td>politics</td>\n",
       "      <td>15-Feb-18</td>\n",
       "      <td>0</td>\n",
       "    </tr>\n",
       "    <tr>\n",
       "      <th>3</th>\n",
       "      <td>THIS IS GREAT! You’ll Love What Joy Villa Want...</td>\n",
       "      <td></td>\n",
       "      <td>politics</td>\n",
       "      <td>Feb 15, 2017</td>\n",
       "      <td>0</td>\n",
       "    </tr>\n",
       "    <tr>\n",
       "      <th>4</th>\n",
       "      <td>MAYORAL CANDIDATE In DIE-HARD DEMOCRAT City Ma...</td>\n",
       "      <td>If John Persinger wins the mayoral race in Eri...</td>\n",
       "      <td>politics</td>\n",
       "      <td>Oct 8, 2017</td>\n",
       "      <td>0</td>\n",
       "    </tr>\n",
       "  </tbody>\n",
       "</table>\n",
       "</div>"
      ],
      "text/plain": [
       "                                               title  \\\n",
       "0  Obama’s Legacy Before American Safety: Feds Lo...   \n",
       "1   Notorious RBG Throws AMAZING Shade At Trump F...   \n",
       "2  “PROUD TRANSGENDER” Democrat Candidate For Con...   \n",
       "3  THIS IS GREAT! You’ll Love What Joy Villa Want...   \n",
       "4  MAYORAL CANDIDATE In DIE-HARD DEMOCRAT City Ma...   \n",
       "\n",
       "                                                text          subject  \\\n",
       "0  The Feds are looking at several states to tran...  Government News   \n",
       "1  We love Ruth Bader Ginsburg. She s the sweet  ...             News   \n",
       "2  WQOW -A Lacrosse, WI transgender person, who r...         politics   \n",
       "3                                                            politics   \n",
       "4  If John Persinger wins the mayoral race in Eri...         politics   \n",
       "\n",
       "                date  label  \n",
       "0        Oct 4, 2015      0  \n",
       "1  November 10, 2016      0  \n",
       "2          15-Feb-18      0  \n",
       "3       Feb 15, 2017      0  \n",
       "4        Oct 8, 2017      0  "
      ]
     },
     "execution_count": 1,
     "metadata": {},
     "output_type": "execute_result"
    }
   ],
   "source": [
    "# Step 1: Import libraries\n",
    "import pandas as pd\n",
    "\n",
    "# Step 2: Load datasets\n",
    "fake = pd.read_csv('dataset/Fake.csv')\n",
    "true = pd.read_csv('dataset/True.csv')\n",
    "\n",
    "# Step 3: Add labels (0 = Fake, 1 = Real)\n",
    "fake['label'] = 0\n",
    "true['label'] = 1\n",
    "\n",
    "# Step 4: Combine datasets and shuffle\n",
    "data = pd.concat([fake, true], axis=0)\n",
    "data = data.sample(frac=1).reset_index(drop=True)  # Shuffle\n",
    "\n",
    "# Step 5: Display the first 5 rows\n",
    "data.head()\n"
   ]
  },
  {
   "cell_type": "code",
   "execution_count": 3,
   "id": "8cb11ece-a1b9-46ce-986b-bcafb8f4ed5b",
   "metadata": {},
   "outputs": [
    {
     "data": {
      "text/plain": [
       "((35918, 111212), (8980, 111212))"
      ]
     },
     "execution_count": 3,
     "metadata": {},
     "output_type": "execute_result"
    }
   ],
   "source": [
    "from sklearn.model_selection import train_test_split\n",
    "from sklearn.feature_extraction.text import TfidfVectorizer\n",
    "\n",
    "# Step 1: Define features and labels\n",
    "X = data['text']    # News article content\n",
    "y = data['label']   # 0 = Fake, 1 = Real\n",
    "\n",
    "# Step 2: Split into training and testing (80% train, 20% test)\n",
    "X_train, X_test, y_train, y_test = train_test_split(\n",
    "    X, y, test_size=0.2, random_state=42\n",
    ")\n",
    "\n",
    "# Step 3: TF-IDF Vectorization\n",
    "vectorizer = TfidfVectorizer(stop_words='english', max_df=0.7)\n",
    "X_train_vec = vectorizer.fit_transform(X_train)\n",
    "X_test_vec = vectorizer.transform(X_test)\n",
    "\n",
    "# Step 4: Show shape of training data\n",
    "X_train_vec.shape, X_test_vec.shape\n"
   ]
  },
  {
   "cell_type": "code",
   "execution_count": 5,
   "id": "7a1d606e-915a-43a9-984b-bea74c5c64af",
   "metadata": {},
   "outputs": [
    {
     "name": "stdout",
     "output_type": "stream",
     "text": [
      "✅ Model Trained Successfully!\n",
      "🔍 Accuracy: 99.45%\n",
      "🧾 Confusion Matrix:\n",
      " [[4710   31]\n",
      " [  18 4221]]\n"
     ]
    }
   ],
   "source": [
    "from sklearn.linear_model import PassiveAggressiveClassifier\n",
    "from sklearn.metrics import accuracy_score, confusion_matrix\n",
    "\n",
    "# Step 1: Initialize model\n",
    "model = PassiveAggressiveClassifier(max_iter=50)\n",
    "\n",
    "# Step 2: Train the model\n",
    "model.fit(X_train_vec, y_train)\n",
    "\n",
    "# Step 3: Predict on test data\n",
    "y_pred = model.predict(X_test_vec)\n",
    "\n",
    "# Step 4: Evaluate\n",
    "accuracy = accuracy_score(y_test, y_pred)\n",
    "conf_matrix = confusion_matrix(y_test, y_pred)\n",
    "\n",
    "print(\"✅ Model Trained Successfully!\")\n",
    "print(f\"🔍 Accuracy: {accuracy * 100:.2f}%\")\n",
    "print(\"🧾 Confusion Matrix:\\n\", conf_matrix)\n"
   ]
  },
  {
   "cell_type": "code",
   "execution_count": 7,
   "id": "d38a9306-d411-4e80-b502-b34b09921318",
   "metadata": {},
   "outputs": [
    {
     "name": "stdout",
     "output_type": "stream",
     "text": [
      "✅ Model and vectorizer saved successfully!\n"
     ]
    }
   ],
   "source": [
    "import joblib\n",
    "\n",
    "# Save trained model\n",
    "joblib.dump(model, 'models/fake_news_model.pkl')\n",
    "\n",
    "# Save vectorizer\n",
    "joblib.dump(vectorizer, 'models/vectorizer.pkl')\n",
    "\n",
    "print(\"✅ Model and vectorizer saved successfully!\")\n"
   ]
  },
  {
   "cell_type": "code",
   "execution_count": null,
   "id": "11f8dd77-05fa-4f5b-b59b-5ddc73048e36",
   "metadata": {},
   "outputs": [],
   "source": []
  }
 ],
 "metadata": {
  "kernelspec": {
   "display_name": "Python 3 (ipykernel)",
   "language": "python",
   "name": "python3"
  },
  "language_info": {
   "codemirror_mode": {
    "name": "ipython",
    "version": 3
   },
   "file_extension": ".py",
   "mimetype": "text/x-python",
   "name": "python",
   "nbconvert_exporter": "python",
   "pygments_lexer": "ipython3",
   "version": "3.12.4"
  }
 },
 "nbformat": 4,
 "nbformat_minor": 5
}
